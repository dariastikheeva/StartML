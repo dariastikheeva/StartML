{
 "cells": [
  {
   "cell_type": "code",
   "execution_count": 1,
   "metadata": {},
   "outputs": [],
   "source": [
    "import os\n",
    "import pandas as pd\n",
    "from sqlalchemy import create_engine\n",
    "import pickle\n",
    "from catboost import CatBoostClassifier"
   ]
  },
  {
   "cell_type": "code",
   "execution_count": 4,
   "metadata": {},
   "outputs": [
    {
     "name": "stderr",
     "output_type": "stream",
     "text": [
      "C:\\Users\\HYPERPC\\AppData\\Local\\Temp\\ipykernel_3668\\3133484240.py:7: UserWarning: pandas only supports SQLAlchemy connectable (engine/connection) or database string URI or sqlite3 DBAPI2 connection. Other DBAPI2 objects are not tested. Please consider using SQLAlchemy.\n",
      "  user_df = pd.read_sql(\n",
      "C:\\Users\\HYPERPC\\AppData\\Local\\Temp\\ipykernel_3668\\3133484240.py:13: UserWarning: pandas only supports SQLAlchemy connectable (engine/connection) or database string URI or sqlite3 DBAPI2 connection. Other DBAPI2 objects are not tested. Please consider using SQLAlchemy.\n",
      "  post_df = pd.read_sql(\n",
      "C:\\Users\\HYPERPC\\AppData\\Local\\Temp\\ipykernel_3668\\3133484240.py:19: UserWarning: pandas only supports SQLAlchemy connectable (engine/connection) or database string URI or sqlite3 DBAPI2 connection. Other DBAPI2 objects are not tested. Please consider using SQLAlchemy.\n",
      "  feed_df = pd.read_sql(\n"
     ]
    }
   ],
   "source": [
    "engine = create_engine(\n",
    "    \"postgresql://robot-startml-ro:pheiph0hahj1Vaif@\"\n",
    "    \"postgres.lab.karpov.courses:6432/startml\"\n",
    ")\n",
    "\n",
    "with engine.connect() as conn:\n",
    "    user_df = pd.read_sql(\n",
    "        sql=\"SELECT * FROM public.user_data\",\n",
    "        con=conn.connection\n",
    "    )\n",
    "\n",
    "with engine.connect() as conn:\n",
    "    post_df = pd.read_sql(\n",
    "        sql=\"SELECT * FROM darja_stiheeva_lms4973_post_features_bert_2\",\n",
    "        con=conn.connection\n",
    "    )\n",
    "\n",
    "with engine.connect() as conn:\n",
    "    feed_df = pd.read_sql(\n",
    "        sql=\"\"\"\n",
    "        SELECT timestamp, user_id, post_id,\n",
    "        CASE \n",
    "            WHEN action = 'like' THEN 1\n",
    "            ELSE target\n",
    "        END AS target\n",
    "        FROM feed_data\n",
    "        WHERE NOT (action = 'view' AND target = 1)\n",
    "        LIMIT 5000000;\n",
    "        \"\"\",\n",
    "        con=conn.connection\n",
    "    )\n"
   ]
  },
  {
   "cell_type": "code",
   "execution_count": 5,
   "metadata": {},
   "outputs": [
    {
     "data": {
      "text/html": [
       "<div>\n",
       "<style scoped>\n",
       "    .dataframe tbody tr th:only-of-type {\n",
       "        vertical-align: middle;\n",
       "    }\n",
       "\n",
       "    .dataframe tbody tr th {\n",
       "        vertical-align: top;\n",
       "    }\n",
       "\n",
       "    .dataframe thead th {\n",
       "        text-align: right;\n",
       "    }\n",
       "</style>\n",
       "<table border=\"1\" class=\"dataframe\">\n",
       "  <thead>\n",
       "    <tr style=\"text-align: right;\">\n",
       "      <th></th>\n",
       "      <th>post_id</th>\n",
       "      <th>topic</th>\n",
       "      <th>feature_0</th>\n",
       "      <th>feature_1</th>\n",
       "      <th>feature_2</th>\n",
       "      <th>feature_3</th>\n",
       "      <th>feature_4</th>\n",
       "      <th>feature_5</th>\n",
       "      <th>feature_6</th>\n",
       "      <th>feature_7</th>\n",
       "      <th>...</th>\n",
       "      <th>feature_20</th>\n",
       "      <th>feature_21</th>\n",
       "      <th>feature_22</th>\n",
       "      <th>feature_23</th>\n",
       "      <th>feature_24</th>\n",
       "      <th>feature_25</th>\n",
       "      <th>feature_26</th>\n",
       "      <th>feature_27</th>\n",
       "      <th>feature_28</th>\n",
       "      <th>feature_29</th>\n",
       "    </tr>\n",
       "  </thead>\n",
       "  <tbody>\n",
       "  </tbody>\n",
       "</table>\n",
       "<p>0 rows × 32 columns</p>\n",
       "</div>"
      ],
      "text/plain": [
       "Empty DataFrame\n",
       "Columns: [post_id, topic, feature_0, feature_1, feature_2, feature_3, feature_4, feature_5, feature_6, feature_7, feature_8, feature_9, feature_10, feature_11, feature_12, feature_13, feature_14, feature_15, feature_16, feature_17, feature_18, feature_19, feature_20, feature_21, feature_22, feature_23, feature_24, feature_25, feature_26, feature_27, feature_28, feature_29]\n",
       "Index: []\n",
       "\n",
       "[0 rows x 32 columns]"
      ]
     },
     "execution_count": 5,
     "metadata": {},
     "output_type": "execute_result"
    }
   ],
   "source": [
    "post_df = post_df.drop('text', axis=1)\n",
    "post_df"
   ]
  },
  {
   "cell_type": "code",
   "execution_count": null,
   "metadata": {},
   "outputs": [],
   "source": [
    "feed_df['timestamp'] = pd.to_datetime(feed_df['timestamp'])\n",
    "\n",
    "feed_df['hour'] = feed_df['timestamp'].dt.hour\n",
    "feed_data = feed_df.drop(columns=['timestamp'])"
   ]
  },
  {
   "cell_type": "code",
   "execution_count": null,
   "metadata": {},
   "outputs": [],
   "source": [
    "def merge_data(user_data, post_data, feed_data):\n",
    "\n",
    "    merged_data = feed_data.merge(user_data, on='user_id', how='left')\n",
    "    merged_data = merged_data.merge(post_data, on='post_id', how='left')\n",
    "    \n",
    "    return merged_data\n",
    "\n",
    "merged_df = merge_data(user_df, post_df, feed_data)\n",
    "merged_df = merged_df.drop(columns=['user_id', 'post_id'])"
   ]
  },
  {
   "cell_type": "code",
   "execution_count": null,
   "metadata": {},
   "outputs": [],
   "source": [
    "categorical_features = ['topic', 'hour', 'city', 'country', 'exp_group', 'gender', 'source', 'os']"
   ]
  },
  {
   "cell_type": "code",
   "execution_count": null,
   "metadata": {},
   "outputs": [],
   "source": [
    "X = merged_df.drop(columns=['target'])\n",
    "all_features = categorical_features + [col for col in X.columns if col not in categorical_features]\n",
    "X = X[all_features]\n",
    "\n",
    "y = merged_df['target']"
   ]
  },
  {
   "cell_type": "code",
   "execution_count": null,
   "metadata": {},
   "outputs": [],
   "source": [
    "model = CatBoostClassifier(iterations=100,\n",
    "                           depth=6,\n",
    "                           learning_rate=0.1)\n",
    "\n",
    "model.fit(X, y, categorical_features)"
   ]
  },
  {
   "cell_type": "code",
   "execution_count": null,
   "metadata": {},
   "outputs": [],
   "source": [
    "model.save_model('catboost_model',\n",
    "                           format=\"cbm\")\n",
    "\n",
    "from_file = CatBoostClassifier() \n",
    "\n",
    "from_file.load_model(\"catboost_model\")\n",
    "\n",
    "from_file.predict_proba(X)"
   ]
  }
 ],
 "metadata": {
  "kernelspec": {
   "display_name": "Python 3",
   "language": "python",
   "name": "python3"
  },
  "language_info": {
   "codemirror_mode": {
    "name": "ipython",
    "version": 3
   },
   "file_extension": ".py",
   "mimetype": "text/x-python",
   "name": "python",
   "nbconvert_exporter": "python",
   "pygments_lexer": "ipython3",
   "version": "3.12.6"
  }
 },
 "nbformat": 4,
 "nbformat_minor": 2
}
