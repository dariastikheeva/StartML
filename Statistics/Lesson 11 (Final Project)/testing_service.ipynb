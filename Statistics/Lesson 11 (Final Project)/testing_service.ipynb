{
 "cells": [
  {
   "cell_type": "code",
   "execution_count": null,
   "metadata": {},
   "outputs": [
    {
     "name": "stdout",
     "output_type": "stream",
     "text": [
      "{'exp_group': 'test', 'recommendations': [{'id': 222, 'text': 'US manufacturing expands\\n\\nUS industrial production increased in December, according to the latest survey from the Institute for Supply Management (ISM).\\n\\nIts index of national manufacturing activity rose to 58.6 last month from 57.8 in November. A reading above 50 indicates a level of growth. The result for December was slightly better than analysts expectations and the 19th consecutive expansion. The ISM said the growth was driven by a significant rise in the new orders. This completes a strong year for manufacturing based on the ISM data, said chairman of the ISMs survey committee. While there is continuing upward pressure on prices, the rate of increase is slowing and definitely trending in the right direction.\\n\\nThe ISMs index of national manufacturing activity is compiled from monthly responses of purchasing executives at more than 400 industrial companies, ranging from textiles to chemicals to paper, and has now been above 50 since June 2003. Analysts expected Decembers figure to come in at 58.1. The ISM manufacturing indexs main sister survey - the employment index - eased to 52.7 in December from 57.6 in November, while its prices paid index, measuring the cost to businesses of their inputs, also eased to 72.0 from 74.0. The ISMs new orders index rose to 67.4 from 61.5.\\n', 'topic': 'business'}, {'id': 345, 'text': 'Irish markets reach all-time high\\n\\nIrish shares have risen to a record high, with investors persuaded to buy into the market by low inflation and strong growth forecasts.\\n\\nThe ISEQ index of leading shares closed up 23 points to 6661.89 on Thursday, fuelled by strong growth in banking and financial stocks. A fall in the rate of inflation to 2.3% in January gave a fresh boost to shares which have advanced 4% this month. The economy is set for strong growth in 2005 while interest rates remain low.\\n\\nSeveral of Irelands biggest companies saw their market value hit recent highs on Thursday. Allied Irish Banks, Irelands biggest company by capitalisation, touched a five year peak while Bank of Ireland shares rose to their highest level since August 2002.\\n\\nTelecoms firm Eircom, which recently revealed that it would re-enter the Irish mobile phone market, hit a yearly high. Analysts said that economic conditions were benign and Irish shares were still trading at a discount to other European markets. Ireland ticks all the boxes as far as international investors are concerned, Roy Asher, chief investment officer of Hibernian Investment Managers, told Reuters. Buoyant economic conditions are set to continue in Ireland over the next few years and Irish equities continue to offer quality growth at a reasonable valuation.\\n\\nBernard McAlinden, head of equity research at NCB Stockbrokers, said equities represented good value compared to other investments. It is still looking good, he told Reuters. We have seen good economic data on Ireland which benefits the financial stocks. Irelands economic miracle is enjoying a second wind, with 5% growth forecast for 2005 and 2006. The economy cooled markedly between 2001 and 2003 after enjoying spectacular growth of more than 10% in 2000. However, it has bounced back strongly with growth of just under 5% expected in 2004.\\n', 'topic': 'business'}, {'id': 294, 'text': 'Honda wins China copyright ruling\\n\\nJapans Honda has won a copyright case in Beijing, further evidence that China is taking a tougher line on protecting intellectual property rights.\\n\\nA court ruled that Chongqing Lifan Industry Group must stop selling Honda brand motorbikes and said it must pay 1.47m yuan ($177,600) in compensation. Internationally recognized regulation is now a key part of Chinas plans for developing its economy, analysts said. Beijing also has been threatened with sanctions if it fails to clamp down.\\n\\nChinese firms copy products ranging from computer software and spark plugs to baby milk and compact discs. Despite the fact that product piracy is a major problem, foreign companies have only occasionally won cases and the compensation awarded has usually been small. Still, recent rulings and announcements will have boosted optimism that attitudes are changing. Earlier this week China said that in future it will punish violators of intellectual property rights with up to seven years in jail. And on Tuesday, Paws Incorporated - the owner of the rights to Garfield the cat - won a court battle against a publishing house that violated its copyright. Other firms that have taken legal action in China, with varying degrees of success, include Yamaha, General Motors and Toyota.\\n\\nThe problem of piracy is not limited to China, however, and the potential for profit is huge. The European Union estimates that the global trade in pirated wares is worth more than 200bn euros a year (£140bn; $258bn), or about 5% of total world trade. And it is growing. Between 1998 and 2002, the number of counterfeit or pirated goods intercepted at the EUs external borders increased by more than 800%, it said. Last month the EU said it will start monitoring China, Ukraine and Russia to ensure they are going after pirated goods. Other countries on the EUs hit list include Thailand, Brazil, South Korea and Indonesia. Any countries that are not making enough of an effort could be dragged to the World Trade Organisation (WTO), a step that could trigger economic sanctions, the EU warned.\\n', 'topic': 'business'}, {'id': 26, 'text': 'Glaxo aims high after profit fall\\n\\nGlaxoSmithKline saw its profits fall 9% last year to £6.2bn ($11.5bn), but Europes biggest drugmaker says a recovery during 2005 is on the way.\\n\\nCheap copies of its drugs, particularly anti-depressants Paxil and Wellbutrin, and a weak dollar had hit profits, but global sales were up 1% in 2004. The firm is confident its new drug pipeline will deliver profits despite the failure of an obesity drug. Chief executive Jean-Pierre Garnier said it had been a difficult year.\\n\\nIn early afternoon trade in London the company share price was down 1% at 1218 pence. Mr Garnier said the company had absorbed over £1.5bn of lost sales to generics but still managing to grow the business. The continuing success of our key products means we can now look forward to a good performance in 2005, he said. 2005 will also be an important year in terms of research and development pipeline progress. However, the firm discontinued development of an experimental treatment for obesity, known as 771, after disappointing clinical trial results. Glaxo is relying on new treatments for conditions such as cancer, diabetes, depression, HIV/AIDS and allergies to lift the pace of sales growth after several disappointing years.\\n', 'topic': 'business'}, {'id': 33, 'text': 'GE sees excellent world economy\\n\\nUS behemoth General Electric has posted an 18% jump in quarterly sales, and in profits, and declared itself in great shape.\\n\\nWe are benefiting from our growth initiatives and an excellent global economy, said GEs chief executive Jeff Immelt. GE is the US biggest firm based on stock market valuation. GEs net profits were $5.37bn (£2.86bn) for the final three months of 2004, while sales came in at $43.7bn. The group, whose businesses range from jet engines to the NBC television channel, forecast sustained growth at between 10-15% for this year and next. GEs shares rose 1% on the news before ending Friday 0.24% lower.\\n\\nThe industries GE is in are doing very well. The materials, financial and industrial sectors are all picking up, said Steve Roukis, an analyst at fund manager Matrix Asset Advisors, which has shares in GE. GE said orders in the fourth quarter were 15% higher than in the same period of 2003, with growth across the board. In the fourth quarter, nine of our 11 businesses delivered at least double-digit earnings growth, said Mr Immelt. Full year 2004 gains were less spectacular, but still respectable. Net profit was up 6% at $16.6bn. Last year, GE bought Vivendi Universal, merging it with NBC to form NBC Universal. The success of Universal Studios film Ray, a portrait of jazz musician Ray Charles, has helped boost earnings at the unit.\\n', 'topic': 'business'}]}\n"
     ]
    }
   ],
   "source": [
    "import service\n",
    "from fastapi.testclient import TestClient\n",
    "from datetime import datetime \n",
    "\n",
    "client = TestClient(service.app)\n",
    "\n",
    "user_id = 73613 \n",
    "time = datetime(2021, 11, 21)\n",
    "\n",
    "try:\n",
    "    r = client.get(\n",
    "        f'post/recommendations',\n",
    "        params={'id': user_id, 'time': time, 'limit': 5},\n",
    "    )\n",
    "except Exception as e:\n",
    "    raise ValueError(f'Ошибка при выполнении запроса {type(e)}{str(e)}')\n",
    "\n",
    "print(r.json())"
   ]
  }
 ],
 "metadata": {
  "kernelspec": {
   "display_name": ".venv",
   "language": "python",
   "name": "python3"
  },
  "language_info": {
   "codemirror_mode": {
    "name": "ipython",
    "version": 3
   },
   "file_extension": ".py",
   "mimetype": "text/x-python",
   "name": "python",
   "nbconvert_exporter": "python",
   "pygments_lexer": "ipython3",
   "version": "3.10.5"
  }
 },
 "nbformat": 4,
 "nbformat_minor": 2
}
