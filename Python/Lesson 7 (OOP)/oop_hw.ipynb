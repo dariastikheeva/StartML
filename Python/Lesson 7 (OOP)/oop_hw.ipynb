{
 "cells": [
  {
   "cell_type": "code",
   "execution_count": 25,
   "metadata": {},
   "outputs": [],
   "source": [
    "class BaseFigure:\n",
    "    n_dots = None\n",
    "\n",
    "    def area(self):\n",
    "        raise NotImplementedError\n",
    "    \n",
    "    def validate(self):\n",
    "        raise NotImplementedError\n",
    "    \n",
    "    def __init__(self):\n",
    "        self.validate()\n"
   ]
  },
  {
   "cell_type": "code",
   "execution_count": 41,
   "metadata": {},
   "outputs": [],
   "source": [
    "class Triangle(BaseFigure):\n",
    "    def __init__(self, a, b, c):\n",
    "        self.a = a\n",
    "        self.b = b\n",
    "        self.c = c\n",
    "        super().__init__()\n",
    "\n",
    "    n_dots = 3\n",
    "\n",
    "    def p(self):\n",
    "        return 0.5 * (self.a + self.b + self.c)\n",
    "    \n",
    "    def area(self):\n",
    "        return (self.p() * (self.p() - self.a) * (self.p() - self.b) * (self.p() - self.c)) ** 0.5\n",
    "    \n",
    "    def validate(self):\n",
    "        if self.a + self.b <= self.c or self.b + self.c <= self.a or self.a + self.c <= self.b:\n",
    "            raise ValueError('triangle inequality does not hold')\n",
    "        else:\n",
    "            return self.a, self.b, self.c\n",
    "    \n",
    "    \n"
   ]
  },
  {
   "cell_type": "code",
   "execution_count": 43,
   "metadata": {},
   "outputs": [],
   "source": [
    "class Rectangle(BaseFigure):\n",
    "    def __init__(self, a, b):\n",
    "        self.a = a\n",
    "        self.b = b\n",
    "        super().__init__()\n",
    "\n",
    "    n_dots = 4\n",
    "\n",
    "    def area(self):\n",
    "        return(self.a * self.b)\n",
    "    \n",
    "    def validate(self):\n",
    "        return self.a, self.b\n",
    "\n",
    "    "
   ]
  },
  {
   "cell_type": "code",
   "execution_count": 47,
   "metadata": {},
   "outputs": [],
   "source": [
    "class Circle(BaseFigure):\n",
    "    n_dots = float('inf')\n",
    "\n",
    "    def __init__(self, r):\n",
    "        self.r = r\n",
    "        super().__init__()\n",
    "\n",
    "    def area(self):\n",
    "        return 3.14 * self.r**2\n",
    "    \n",
    "    def validate(self):\n",
    "        pass\n"
   ]
  },
  {
   "cell_type": "code",
   "execution_count": 92,
   "metadata": {},
   "outputs": [],
   "source": [
    "class Vector:\n",
    "    def __init__(self, coords):\n",
    "        self.coords = coords\n",
    "\n",
    "    # добавляем возможность вызывать len\n",
    "    def __len__(self):\n",
    "        return len(self.coords)\n",
    "    \n",
    "    # добавляем возможность обращаться к элементам по индексу\n",
    "    def __getitem__(self, index):\n",
    "        return self.coords[index]\n",
    "\n",
    "    def __setitem__(self, index, value):\n",
    "        if index >= len(self.coords):\n",
    "            # Расширяем список нулями до нужного индекса, если это необходимо\n",
    "            self.coords.extend([0] * (index + 1 - len(self.data)))\n",
    "        self.data[index] = value\n",
    "\n",
    "    def __delitem__(self, index):\n",
    "        del self.coords[index]\n",
    "    \n",
    "    # реализуем сложение векторов\n",
    "    def __add__(self, other):\n",
    "        if len(self.coords) != len(other):\n",
    "            raise ValueError(f'left and right lengths differ: {len(self.coords)} != {len(other)}')\n",
    "        else:\n",
    "            return Vector([self.coords[i] + other[i] for i in range(len(self.coords))])\n",
    "\n",
    "    # реализуем скалярное произведение векторов и умножение вектора на число  \n",
    "    def __mul__(self, other):\n",
    "        if isinstance(other, Vector):\n",
    "                if len(self.coords) != len(other):\n",
    "                    raise ValueError(f'left and right lengths differ: {len(self.coords)} != {len(other)}')\n",
    "                else:\n",
    "                    return sum([self.coords[i] * other[i] for i in range(len(self.coords))])\n",
    "        elif isinstance(other, (int, float)):\n",
    "            return Vector([i * other for i in self.coords])\n",
    "\n",
    "    # реализуем сравнение векторов    \n",
    "    def __eq__(self, other):\n",
    "        return self.coords == other\n",
    "    \n",
    "    # реализуем нахождение длины вектора\n",
    "    def __abs__(self):\n",
    "        return sum([i**2 for i in self.coords])**0.5\n",
    "\n",
    "    # делаем красивишный вывод    \n",
    "    def __str__(self):\n",
    "        return f'{self.coords}'\n",
    "\n",
    "v_1 = Vector([1, 2, 3])\n",
    "v_2 = 5\n",
    "\n",
    "Vector([-12, 5]) == v_1\n"
   ]
  },
  {
   "cell_type": "code",
   "execution_count": 7,
   "metadata": {},
   "outputs": [
    {
     "data": {
      "text/plain": [
       "False"
      ]
     },
     "execution_count": 7,
     "metadata": {},
     "output_type": "execute_result"
    }
   ],
   "source": [
    "request = {\n",
    "  \"cookies\": {'key_1': 'value_1', 'key_2': 'value_2'},\n",
    "  \"body\": \"a long time ago, in a Galaxy far, far away\",\n",
    "  \"headers\": {\"content-type\": \"application/json\", \"Accept\": \"application/json\"}\n",
    "}\n",
    "\n",
    "class ParsesCookies:\n",
    "    def cookies(self):\n",
    "        return self.request['cookies']\n",
    "    \n",
    "    def is_authed(self):\n",
    "        return 'auth_key' in self.request['cookies']\n",
    "    \n",
    "class ParsesBody:\n",
    "    def body(self):\n",
    "        return self.request['body']\n",
    "    \n",
    "class ParsesHeaders:\n",
    "    request = request\n",
    "    def headers(self):\n",
    "        return self.request['headers']\n",
    "        \n",
    "    def need_json(self):\n",
    "        return True if 'application/json' != self.request['headers']['content-type'] else False\n",
    "\n",
    "ParsesHeaders().need_json()\n"
   ]
  },
  {
   "cell_type": "code",
   "execution_count": 8,
   "metadata": {},
   "outputs": [],
   "source": [
    "import json\n",
    "\n",
    "class JsonHandler(ParsesBody, ParsesHeaders):\n",
    "    def __init__(self, request):\n",
    "       self.request = request\n",
    "    \n",
    "    def process(self):\n",
    "        if self.need_json() == False:\n",
    "            return None\n",
    "        else:\n",
    "            try:\n",
    "                return len(json.loads(self.body()))\n",
    "            except json.JSONDecodeError:\n",
    "                return None\n"
   ]
  },
  {
   "cell_type": "code",
   "execution_count": 4,
   "metadata": {},
   "outputs": [],
   "source": [
    "class SecureTextHandler(ParsesBody, ParsesCookies):\n",
    "    def __init__(self, request):\n",
    "        self.request = request\n",
    "\n",
    "    def process(self):\n",
    "        if self.is_authed() == False:\n",
    "            return None\n",
    "        else:\n",
    "            return len(self.body())\n",
    "        \n"
   ]
  }
 ],
 "metadata": {
  "kernelspec": {
   "display_name": "Python 3",
   "language": "python",
   "name": "python3"
  },
  "language_info": {
   "codemirror_mode": {
    "name": "ipython",
    "version": 3
   },
   "file_extension": ".py",
   "mimetype": "text/x-python",
   "name": "python",
   "nbconvert_exporter": "python",
   "pygments_lexer": "ipython3",
   "version": "3.12.6"
  }
 },
 "nbformat": 4,
 "nbformat_minor": 2
}
